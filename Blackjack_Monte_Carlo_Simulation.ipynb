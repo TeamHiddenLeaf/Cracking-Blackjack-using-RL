{
  "nbformat": 4,
  "nbformat_minor": 0,
  "metadata": {
    "colab": {
      "name": " Blackjack Monte Carlo Simulation",
      "provenance": [],
      "collapsed_sections": []
    },
    "kernelspec": {
      "name": "python3",
      "display_name": "Python 3"
    }
  },
  "cells": [
    {
      "cell_type": "code",
      "metadata": {
        "id": "cM8x7b5A4RZS",
        "colab_type": "code",
        "colab": {}
      },
      "source": [
        "#importing libraries\n",
        "import random\n",
        "import matplotlib.pyplot as plt\n",
        "import pandas as pd"
      ],
      "execution_count": null,
      "outputs": []
    },
    {
      "cell_type": "markdown",
      "metadata": {
        "id": "yG8GwpAJy5e7",
        "colab_type": "text"
      },
      "source": [
        "### Setting up the game"
      ]
    },
    {
      "cell_type": "code",
      "metadata": {
        "id": "lS5b53TqV6hm",
        "colab_type": "code",
        "colab": {}
      },
      "source": [
        "import enum\n",
        "\n",
        "ranks = {\n",
        "    \"two\" : 2,\n",
        "    \"three\" : 3,\n",
        "    \"four\" : 4,\n",
        "    \"five\" : 5,\n",
        "    \"six\" : 6,\n",
        "    \"seven\" : 7,\n",
        "    \"eight\" : 8,\n",
        "    \"nine\" : 9,\n",
        "    \"ten\" : 10,\n",
        "    \"jack\" : 10,\n",
        "    \"queen\" : 10,\n",
        "    \"king\" : 10,\n",
        "    \"ace\" : (1, 11)\n",
        "}\n",
        "    \n",
        "class Suit(enum.Enum):\n",
        "    spades = \"spades\"\n",
        "    clubs = \"clubs\"\n",
        "    diamonds = \"diamonds\"\n",
        "    hearts = \"hearts\""
      ],
      "execution_count": null,
      "outputs": []
    },
    {
      "cell_type": "markdown",
      "metadata": {
        "id": "QGuhvYuSy7Fy",
        "colab_type": "text"
      },
      "source": [
        "### Defining card and deck: implement shuffle and peak"
      ]
    },
    {
      "cell_type": "code",
      "metadata": {
        "id": "plKSpyUMWMNY",
        "colab_type": "code",
        "colab": {}
      },
      "source": [
        "class Card:\n",
        "    def __init__(self, suit, rank, value):\n",
        "        self.suit = suit\n",
        "        self.rank = rank\n",
        "        self.value = value\n",
        "        \n",
        "    def __str__(self):\n",
        "        return self.rank + \" of \" + self.suit.value\n",
        "\n",
        "class Deck:\n",
        "    def __init__(self, num=1):\n",
        "        self.cards = []\n",
        "        for i in range(num):\n",
        "            for suit in Suit:\n",
        "                for rank, value in ranks.items():\n",
        "                    self.cards.append(Card(suit, rank, value))\n",
        "                \n",
        "    def shuffle(self):\n",
        "        random.shuffle(self.cards)\n",
        "        \n",
        "    def deal(self):\n",
        "        return self.cards.pop(0)\n",
        "    \n",
        "    def peek(self):\n",
        "        if len(self.cards) > 0:\n",
        "            return self.cards[0]\n",
        "        \n",
        "    def add_to_bottom(self, card):\n",
        "        self.cards.append(card)\n",
        "        \n",
        "    def __str__(self):\n",
        "        result = \"\"\n",
        "        for card in self.cards:\n",
        "            result += str(card) + \"\\n\"\n",
        "        return result\n",
        "    \n",
        "    def __len__(self):\n",
        "        return len(self.cards)"
      ],
      "execution_count": null,
      "outputs": []
    },
    {
      "cell_type": "markdown",
      "metadata": {
        "id": "ZwgCoaDAzjZU",
        "colab_type": "text"
      },
      "source": [
        "## Define logic for evaluating the value of the dealer's hand."
      ]
    },
    {
      "cell_type": "code",
      "metadata": {
        "id": "6DbfS3shCnKP",
        "colab_type": "code",
        "colab": {}
      },
      "source": [
        "# Still need to figure out what happens if there are multiple Aces.\n",
        "def dealer_eval(player_hand):\n",
        "    num_ace = 0\n",
        "    use_one = 0\n",
        "    for card in player_hand:\n",
        "        if card.rank == \"ace\":\n",
        "            num_ace += 1\n",
        "            use_one += card.value[0] # use 1 for Ace\n",
        "        else:\n",
        "            use_one += card.value\n",
        "    \n",
        "    if num_ace > 0:\n",
        "        # See if using 11 instead of 1 for the Aces gets the \n",
        "        # dealer's hand value closer to the [17, 21] range\n",
        "        \n",
        "        # The dealer will follow Hard 17 rules.\n",
        "        # This means the dealer will not hit again if\n",
        "        # the Ace yields a 17. \n",
        "        \n",
        "        # This also means that Aces initially declared as 11's can\n",
        "        # be changed to 1's as new cards come.\n",
        "        \n",
        "        ace_counter = 0\n",
        "        while ace_counter < num_ace:\n",
        "            # Only add by 10 b/c 1 is already added before\n",
        "            use_eleven = use_one + 10 \n",
        "            \n",
        "            if use_eleven > 21:\n",
        "                return use_one\n",
        "            elif use_eleven >= 17 and use_eleven <= 21:\n",
        "                return use_eleven\n",
        "            else:\n",
        "                # The case where even using Ace as eleven is less than 17.\n",
        "                use_one = use_eleven\n",
        "            \n",
        "            ace_counter += 1\n",
        "        \n",
        "        return use_one\n",
        "    else:\n",
        "        return use_one"
      ],
      "execution_count": null,
      "outputs": []
    },
    {
      "cell_type": "markdown",
      "metadata": {
        "id": "aVWbZVjyzEtE",
        "colab_type": "text"
      },
      "source": [
        "## Define logic for evaluating the value of the player's hand."
      ]
    },
    {
      "cell_type": "code",
      "metadata": {
        "id": "JIQCyp1LC2qO",
        "colab_type": "code",
        "colab": {}
      },
      "source": [
        "\"\"\"defining the logic for aces as you know that an ace can be 1 or 11 depending on how close you are to 21. \n",
        "we define that if player gets an ace, our num_ace adds 1 and the card value for ace will equal ace=1 else use the current/default card value.\n",
        "The for_loop will run only if you get an ace, otherwise you get the default card value (e.g,queen,king, etc..)\n",
        "THEN we define that if num_ace > 0, we use a while loop--> create an ace counter = 0, if num_ace > ace_counter then we will initiate our while_loop.\n",
        "Now we will use_eleven = use_one + 10, since we already have ace = 1 value added (EX, if we have (card 4 + 1_ace = use_one) and we get another ace, we will use_11 for the next\n",
        "ace_value, meaning we will have total of 15 points). Now we will not use_elven if our combined value is greater than 21 because the dealer will automatically win. We will use \n",
        "eleven ONLY if our use_eleven >= 18 and less than 21 we will use the value in use_elven. If the use_eleven value is less than 18 then our use_one = use_eleven.\n",
        "\"\"\"\n",
        "\n",
        "def player_eval(player_hand):\n",
        "    num_ace = 0\n",
        "    # use_one means that every ace that in the hand is counted as one.\n",
        "    use_one = 0\n",
        "    for card in player_hand:\n",
        "        if card.rank == \"ace\":\n",
        "            num_ace += 1\n",
        "            use_one += card.value[0] # use 1 for Ace\n",
        "        else:\n",
        "            use_one += card.value\n",
        "    \n",
        "    if num_ace > 0:\n",
        "        # Define player policy for Aces:\n",
        "        # Make Aces 11 if they get you to the range [18,21]\n",
        "        # Otherwise, use one.\n",
        "        \n",
        "        ace_counter = 0\n",
        "        while ace_counter < num_ace:\n",
        "            # Only add by 10 b/c 1 is already added before\n",
        "            use_eleven = use_one + 10 \n",
        "            \n",
        "            if use_eleven > 21:\n",
        "                return use_one\n",
        "            elif use_eleven >= 18 and use_eleven <= 21:\n",
        "                return use_eleven\n",
        "            else:\n",
        "                # This allows for some Aces to be 11s, and others to be 1.\n",
        "                use_one = use_eleven\n",
        "            \n",
        "            ace_counter += 1\n",
        "        \n",
        "        return use_one\n",
        "    else:\n",
        "        return use_one"
      ],
      "execution_count": null,
      "outputs": []
    },
    {
      "cell_type": "markdown",
      "metadata": {
        "id": "JGM5n-uizTyJ",
        "colab_type": "text"
      },
      "source": [
        "### Define logic for the dealer's turn."
      ]
    },
    {
      "cell_type": "code",
      "metadata": {
        "id": "YPC1JU00DCdV",
        "colab_type": "code",
        "colab": {}
      },
      "source": [
        "def dealer_turn(dealer_hand, deck):\n",
        "    # Calculate dealer hand's value.\n",
        "    dealer_value = dealer_eval(dealer_hand)\n",
        "\n",
        "    # Define dealer policy (is fixed to official rules)\n",
        "\n",
        "    # The dealer keeps hitting until their total is 17 or more\n",
        "    while dealer_value < 17:\n",
        "        # hit\n",
        "        dealer_hand.append(deck.deal())\n",
        "        dealer_value = dealer_eval(dealer_hand)\n",
        "\n",
        "    return dealer_value, dealer_hand, deck"
      ],
      "execution_count": null,
      "outputs": []
    },
    {
      "cell_type": "markdown",
      "metadata": {
        "id": "40QRgmg3z_wq",
        "colab_type": "text"
      },
      "source": [
        "### Main Blackjack play_game() function."
      ]
    },
    {
      "cell_type": "code",
      "metadata": {
        "id": "hHxCT6uxDGAW",
        "colab_type": "code",
        "colab": {}
      },
      "source": [
        "\"\"\"\n",
        "Defining the blackjack game: We starting with TWO decks, 1000 CASH, and 100 BETS. We shuffle the cards before beginning using the shuffle function. \n",
        "We set the player cash equal to the starting cash. We set conditions with WHILE_LOOP, the player should have cash > 0, and rounds played are LESS than 100.\n",
        "We define player_value = player_hand in the beginning. If the player_value >21, the player automatically loses and $100 is deducted from player_cash. If player_value\n",
        "is equal to 21, we add $100 to player's cash otherwise, we change it to the dealer's turn. Same rule applies to the dealer when dealer_value =21 and > 21. \n",
        "Now in a case when =21 or >21 is not the case for dealer and the player we will determine which player OR the dealer is closer to 21 wins the game.\n",
        "IF THERE IS A TIE, then nothing happens. At the end of the round, we will put away the cards in the deck and reshuffle the deck. We also subtract the player and \n",
        "dealer current cash value from the starting cash.\n",
        "\"\"\"\n",
        "\n",
        "def play_game(player_policy, num_decks = 2, start_cash = 1000, num_rounds = 100):\n",
        "    # Our Blackjack deck will be made of 2 normal decks by default.\n",
        "    bj_deck = Deck(num_decks)\n",
        "\n",
        "    # Shuffle before beginning. Only shuffle once before the start of each game.\n",
        "    bj_deck.shuffle()\n",
        "    \n",
        "    # Keeps track of rewards/punishments. Also allows game to end before num_rounds.\n",
        "    player_cash = start_cash\n",
        "    \n",
        "    rounds_played = 0\n",
        "    \n",
        "    while rounds_played < num_rounds and player_cash > 0:\n",
        "        # Assume player bets 100 each round.\n",
        "        # Gains 100 for winning round.\n",
        "        # Loses 100 for losing round.\n",
        "        # Nothing happens if tie. (Needs to change when actually training, so that agent tries to win more than tie.)\n",
        "        \n",
        "        player_hand = [bj_deck.deal(), bj_deck.deal()]\n",
        "        dealer_hand = [bj_deck.deal(), bj_deck.deal()]\n",
        "        \n",
        "        # The current policy does not care about dealer's upcard.\n",
        "        #dealer_upcard = dealer_hand[0]\n",
        "        \n",
        "        ## Begin player turn phase.\n",
        "        \n",
        "        player_value, player_hand, bj_deck = player_policy(player_hand, bj_deck)\n",
        "            \n",
        "        ## Player turn phase over.\n",
        "        \n",
        "        #--------------------------------------------------------#\n",
        "        \n",
        "        ## Begin automated phase of the Dealer's Play and\n",
        "        ## determining the winner of the round.\n",
        "        \n",
        "        if player_value > 21: # above 21, player loses automatically.\n",
        "            player_cash -= 100\n",
        "        elif player_value == 21: # blackjack! Player wins automatically.\n",
        "            player_cash += 100\n",
        "        else:\n",
        "            ## Begin dealer turn phase.\n",
        "            \n",
        "            dealer_value, dealer_hand, bj_deck = dealer_turn(dealer_hand, bj_deck)\n",
        "                \n",
        "            ## End of dealer turn phase\n",
        "            \n",
        "            #------------------------------------------------------------#\n",
        "            \n",
        "            ## Final Compare\n",
        "            \n",
        "            if dealer_value > 21: # dealer above 21, player wins automatically\n",
        "                player_cash += 100\n",
        "            elif dealer_value == 21: # dealer has blackjack, player loses automatically\n",
        "                player_cash -= 100\n",
        "            else: # dealer and player have values less than 21.\n",
        "                if player_value > dealer_value: # player closer to 21, player wins.\n",
        "                    player_cash += 100\n",
        "                elif player_value < dealer_value: # dealer closer to 21, dealer wins.\n",
        "                    player_cash -= 100\n",
        "                # Nothing happens if a tie.\n",
        "                \n",
        "        ## End of round formalities\n",
        "        \n",
        "        # Add all cards to the end of deck, and shuffle. \n",
        "        # (Shuffling not usually done in casino blackjack.)\n",
        "        bj_deck.cards += player_hand\n",
        "        bj_deck.cards += dealer_hand\n",
        "        bj_deck.shuffle()\n",
        "            \n",
        "        rounds_played += 1\n",
        "        \n",
        "    # Returns net gains/losses of playing\n",
        "    return player_cash - start_cash"
      ],
      "execution_count": null,
      "outputs": []
    },
    {
      "cell_type": "markdown",
      "metadata": {
        "id": "QieuuXh20Ofh",
        "colab_type": "text"
      },
      "source": [
        "### Simulate Discrete Policy + Graph Results"
      ]
    },
    {
      "cell_type": "code",
      "metadata": {
        "id": "V4HUb7zWDO_G",
        "colab_type": "code",
        "colab": {}
      },
      "source": [
        "\"\"\"\n",
        "We implement a policy that states that if hand >=18, the player and dealer will stand, otherwise hit. (NO CONTINOUS ACTION)\n",
        "\n",
        "\"\"\"\n",
        "def discrete_policy(player_hand, deck):\n",
        "    player_value = player_eval(player_hand)\n",
        "    \n",
        "    # Implement Discrete Policy\n",
        "    # If hand >= 18, stand. Otherwise, hit.\n",
        "    while player_value < 18:\n",
        "        # hit\n",
        "        player_hand.append(deck.deal())\n",
        "        player_value = player_eval(player_hand)\n",
        "        \n",
        "    return player_value, player_hand, deck"
      ],
      "execution_count": null,
      "outputs": []
    },
    {
      "cell_type": "markdown",
      "metadata": {
        "id": "_CJeeWJM0bvE",
        "colab_type": "text"
      },
      "source": [
        "### Run 100,000 games with just 1 round in each to approximate average gain/loss per round."
      ]
    },
    {
      "cell_type": "code",
      "metadata": {
        "id": "Q8LpvKPuDXbO",
        "colab_type": "code",
        "colab": {}
      },
      "source": [
        "\"\"\"\n",
        "We run 100k simulations to calculate our net avg cash, given the discrete policy of hitting if hand value is < 18 then the player hits.\n",
        "\"\"\"\n",
        "results = {}\n",
        "\n",
        "num_rds = 1\n",
        "num_games = 100000\n",
        "\n",
        "net_avg = 0\n",
        "\n",
        "for i in range(num_games):\n",
        "    net_avg += play_game(discrete_policy, num_rounds = num_rds)\n",
        "net_avg /= num_games\n",
        "\n",
        "results[num_games] = net_avg"
      ],
      "execution_count": null,
      "outputs": []
    },
    {
      "cell_type": "code",
      "metadata": {
        "id": "vdPKYc4zDcUz",
        "colab_type": "code",
        "colab": {
          "base_uri": "https://localhost:8080/",
          "height": 323
        },
        "outputId": "659acffc-753d-4981-c279-679e6e7255d3"
      },
      "source": [
        "\"\"\"\n",
        "We see below that after 100k simulations, on average we lose maximum of $10 per round using the discrete policy.\n",
        "\"\"\"\n",
        "# Load rewards to a df\n",
        "# x-axis will be # of games played. Not really an x-axis b/c there is just one value\n",
        "# y-axis will the avg gains/losses for any given round using Discrete Policy\n",
        "df = pd.DataFrame(list(results.values()), columns = [\"sums\"], index = results.keys())\n",
        "\n",
        "# sort by index align x/y axis properly\n",
        "df.sort_index(inplace=True)\n",
        "\n",
        "df.plot.bar()\n",
        "\n",
        "plt.xlabel(\"# of Rounds\")\n",
        "plt.ylabel(\"Avg Rewards per Round ($)\")\n",
        "plt.title(\"Avg Rewards per Round for 100,000 Rounds using Discrete Policy\")\n",
        "\n",
        "plt.show()"
      ],
      "execution_count": null,
      "outputs": [
        {
          "output_type": "display_data",
          "data": {
            "image/png": "[encoded data removed]",
            "text/plain": [
              "<Figure size 432x288 with 1 Axes>"
            ]
          },
          "metadata": {
            "tags": [],
            "needs_background": "light"
          }
        }
      ]
    },
    {
      "cell_type": "markdown",
      "metadata": {
        "id": "TXoXgkcN0tHU",
        "colab_type": "text"
      },
      "source": [
        "### Simulate Stochastic Policy + Graph Results: define what player should do on their turn."
      ]
    },
    {
      "cell_type": "code",
      "metadata": {
        "id": "Mu_YBJGKDluc",
        "colab_type": "code",
        "colab": {}
      },
      "source": [
        "\"\"\"\n",
        "If a player value is less than 18 and stand is FALSE, and the percent value is less than 80% we HIT and append to the deck by adding another card, otherwise\n",
        "we just STAND. If player_value >= 18 BUT less than 21, and percentage is > 80% so we HIT (This is the reason we lose money on this policy).\n",
        "\"\"\"\n",
        "\n",
        "def stochastic_policy(player_hand, deck):\n",
        "    player_value = player_eval(player_hand)\n",
        "    \n",
        "    # Implement Stochastic Policy\n",
        "    # If hand >= 18: 80% Stand, 20% Hit\n",
        "    # Else: 80% Hit, 20% Stand\n",
        "    \n",
        "    stand = False\n",
        "    while player_value < 18 and stand == False:\n",
        "        percent = random.randint(1, 10)\n",
        "        if percent <= 8:\n",
        "            # hit\n",
        "            player_hand.append(deck.deal())\n",
        "            player_value = player_eval(player_hand)\n",
        "        else:\n",
        "            # stand\n",
        "            stand = True\n",
        "    \n",
        "    if stand:\n",
        "        return player_value, player_hand, deck\n",
        "    \n",
        "    # player_value is now >= 18.\n",
        "    if player_value < 21:\n",
        "        percent = random.randint(1, 10)\n",
        "        if percent > 8:\n",
        "            # hit\n",
        "            player_hand.append(deck.deal())\n",
        "            player_value = player_eval(player_hand)        \n",
        "            \n",
        "        # else: Do nothing, stand.\n",
        "    # else: player_value is 21 or higher, so we must stand in both cases.\n",
        "    \n",
        "    return player_value, player_hand, deck"
      ],
      "execution_count": null,
      "outputs": []
    },
    {
      "cell_type": "markdown",
      "metadata": {
        "id": "axrCxXs21CBv",
        "colab_type": "text"
      },
      "source": [
        "### Run 100,000 games with just 1 round in each to approximate average gain/loss per round."
      ]
    },
    {
      "cell_type": "code",
      "metadata": {
        "id": "PrgaLBE7Ds2v",
        "colab_type": "code",
        "colab": {}
      },
      "source": [
        "results = {}\n",
        "\n",
        "num_rds = 1\n",
        "num_games = 100000\n",
        "\n",
        "net_avg = 0\n",
        "\n",
        "for i in range(num_games):\n",
        "    net_avg += play_game(stochastic_policy, num_rounds = num_rds)\n",
        "net_avg /= num_games\n",
        "\n",
        "results[num_games] = net_avg"
      ],
      "execution_count": null,
      "outputs": []
    },
    {
      "cell_type": "code",
      "metadata": {
        "id": "grl6NSlADwLy",
        "colab_type": "code",
        "colab": {
          "base_uri": "https://localhost:8080/",
          "height": 323
        },
        "outputId": "d45ff2f4-956c-4401-e68f-f40273b65066"
      },
      "source": [
        "\"\"\"\n",
        "We see here that our net avg LOSS is $18 per 100K rounds due to the stochastic policy of 80% of hitting if player_value is less than 21 and greater than 18.\n",
        "\n",
        "\"\"\"\n",
        "\n",
        "# Load rewards to a df\n",
        "# x-axis will be # of games played. Not really an x-axis b/c there is just one value\n",
        "# y-axis will the avg gains/losses for any given round using Stochastic Policy\n",
        "df = pd.DataFrame(list(results.values()), columns = [\"sums\"], index = results.keys())\n",
        "\n",
        "# sort by index align x/y axis properly\n",
        "df.sort_index(inplace=True)\n",
        "\n",
        "df.plot.bar()\n",
        "\n",
        "plt.xlabel(\"# of Rounds\")\n",
        "plt.ylabel(\"Avg Rewards per Round ($)\")\n",
        "plt.title(\"Avg Rewards per Round for 100,000 Rounds using Stochastic Policy\")\n",
        "\n",
        "plt.show()"
      ],
      "execution_count": null,
      "outputs": [
        {
          "output_type": "display_data",
          "data": {
            "image/png": "[encoded data removed]",
            "text/plain": [
              "<Figure size 432x288 with 1 Axes>"
            ]
          },
          "metadata": {
            "tags": [],
            "needs_background": "light"
          }
        }
      ]
    }
  ]
}