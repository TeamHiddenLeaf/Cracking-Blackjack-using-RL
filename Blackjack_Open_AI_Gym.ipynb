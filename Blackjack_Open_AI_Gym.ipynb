{
  "nbformat": 4,
  "nbformat_minor": 0,
  "metadata": {
    "colab": {
      "name": "Blackjack Open AI Gym",
      "provenance": [],
      "collapsed_sections": []
    },
    "kernelspec": {
      "name": "python3",
      "display_name": "Python 3"
    }
  },
  "cells": [
    {
      "cell_type": "code",
      "metadata": {
        "id": "MmibnxWR1oE3",
        "colab_type": "code",
        "colab": {}
      },
      "source": [
        "#importing libraries\n",
        "import matplotlib.pyplot as plt\n",
        "import pandas as pd\n",
        "import random"
      ],
      "execution_count": null,
      "outputs": []
    },
    {
      "cell_type": "markdown",
      "metadata": {
        "id": "9VGU1zEK616B",
        "colab_type": "text"
      },
      "source": [
        "### Setting up the game"
      ]
    },
    {
      "cell_type": "code",
      "metadata": {
        "id": "BaE8gDXF6dWv",
        "colab_type": "code",
        "colab": {}
      },
      "source": [
        "\n",
        "import enum\n",
        "\n",
        "ranks = {\n",
        "    \"two\" : 2,\n",
        "    \"three\" : 3,\n",
        "    \"four\" : 4,\n",
        "    \"five\" : 5,\n",
        "    \"six\" : 6,\n",
        "    \"seven\" : 7,\n",
        "    \"eight\" : 8,\n",
        "    \"nine\" : 9,\n",
        "    \"ten\" : 10,\n",
        "    \"jack\" : 10,\n",
        "    \"queen\" : 10,\n",
        "    \"king\" : 10,\n",
        "    \"ace\" : (1, 11)\n",
        "}\n",
        "    \n",
        "class Suit(enum.Enum):\n",
        "    spades = \"spades\"\n",
        "    clubs = \"clubs\"\n",
        "    diamonds = \"diamonds\"\n",
        "    hearts = \"hearts\""
      ],
      "execution_count": null,
      "outputs": []
    },
    {
      "cell_type": "markdown",
      "metadata": {
        "id": "iEXuqvvM6-tF",
        "colab_type": "text"
      },
      "source": [
        "### Defining card and deck: implement shuffle and peak"
      ]
    },
    {
      "cell_type": "code",
      "metadata": {
        "id": "aHAbKOcr6esO",
        "colab_type": "code",
        "colab": {}
      },
      "source": [
        "class Card:\n",
        "    def __init__(self, suit, rank, value):\n",
        "        self.suit = suit\n",
        "        self.rank = rank\n",
        "        self.value = value\n",
        "        \n",
        "    def __str__(self):\n",
        "        return self.rank + \" of \" + self.suit.value\n",
        "\n",
        "class Deck:\n",
        "    def __init__(self, num=1):\n",
        "        self.cards = []\n",
        "        for i in range(num):\n",
        "            for suit in Suit:\n",
        "                for rank, value in ranks.items():\n",
        "                    self.cards.append(Card(suit, rank, value))\n",
        "                \n",
        "    def shuffle(self):\n",
        "        random.shuffle(self.cards)\n",
        "        \n",
        "    def deal(self):\n",
        "        return self.cards.pop(0)\n",
        "    \n",
        "    def peek(self):\n",
        "        if len(self.cards) > 0:\n",
        "            return self.cards[0]\n",
        "        \n",
        "    def add_to_bottom(self, card):\n",
        "        self.cards.append(card)\n",
        "        \n",
        "    def __str__(self):\n",
        "        result = \"\"\n",
        "        for card in self.cards:\n",
        "            result += str(card) + \"\\n\"\n",
        "        return result\n",
        "    \n",
        "    def __len__(self):\n",
        "        return len(self.cards)"
      ],
      "execution_count": null,
      "outputs": []
    },
    {
      "cell_type": "markdown",
      "metadata": {
        "id": "EQJnCwkZ7JVF",
        "colab_type": "text"
      },
      "source": [
        "## Define logic for evaluating the value of the dealer's hand."
      ]
    },
    {
      "cell_type": "code",
      "metadata": {
        "id": "CF3LBJxf6naz",
        "colab_type": "code",
        "colab": {}
      },
      "source": [
        "# This follows the same, official rules every time.\n",
        "# Still need to figure out what happens if there are multiple Aces.\n",
        "def dealer_eval(player_hand):\n",
        "    num_ace = 0\n",
        "    use_one = 0\n",
        "    for card in player_hand:\n",
        "        if card.rank == \"ace\":\n",
        "            num_ace += 1\n",
        "            use_one += card.value[0] # use 1 for Ace\n",
        "        else:\n",
        "            use_one += card.value\n",
        "    \n",
        "    if num_ace > 0:\n",
        "        # See if using 11 instead of 1 for the Aces gets the \n",
        "        # dealer's hand value closer to the [17, 21] range\n",
        "        \n",
        "        # The dealer will follow Hard 17 rules.\n",
        "        # This means the dealer will not hit again if\n",
        "        # the Ace yields a 17. \n",
        "        \n",
        "        # This also means that Aces initially declared as 11's can\n",
        "        # be changed to 1's as new cards come.\n",
        "        \n",
        "        ace_counter = 0\n",
        "        while ace_counter < num_ace:\n",
        "            # Only add by 10 b/c 1 is already added before\n",
        "            use_eleven = use_one + 10 \n",
        "            \n",
        "            if use_eleven > 21:\n",
        "                return use_one\n",
        "            elif use_eleven >= 17 and use_eleven <= 21:\n",
        "                return use_eleven\n",
        "            else:\n",
        "                # The case where even using Ace as eleven is less than 17.\n",
        "                use_one = use_eleven\n",
        "            \n",
        "            ace_counter += 1\n",
        "        \n",
        "        return use_one\n",
        "    else:\n",
        "        return use_one"
      ],
      "execution_count": null,
      "outputs": []
    },
    {
      "cell_type": "markdown",
      "metadata": {
        "id": "S9_U9IY_7SsL",
        "colab_type": "text"
      },
      "source": [
        "## Define logic for evaluating the value of the player's hand."
      ]
    },
    {
      "cell_type": "code",
      "metadata": {
        "id": "ve8WIdr-6v9E",
        "colab_type": "code",
        "colab": {}
      },
      "source": [
        "def player_eval(player_hand):\n",
        "    num_ace = 0\n",
        "    # use_one means that every ace that in the hand is counted as one.\n",
        "    use_one = 0\n",
        "    for card in player_hand:\n",
        "        if card.rank == \"ace\":\n",
        "            num_ace += 1\n",
        "            use_one += card.value[0] # use 1 for Ace\n",
        "        else:\n",
        "            use_one += card.value\n",
        "    \n",
        "    if num_ace > 0:\n",
        "        # Define player policy for Aces:\n",
        "        # Make Aces 11 if they get you to the range [18,21]\n",
        "        # Otherwise, use one.\n",
        "        \n",
        "        ace_counter = 0\n",
        "        while ace_counter < num_ace:\n",
        "            # Only add by 10 b/c 1 is already added before\n",
        "            use_eleven = use_one + 10 \n",
        "            \n",
        "            if use_eleven > 21:\n",
        "                return use_one\n",
        "            elif use_eleven >= 18 and use_eleven <= 21:\n",
        "                return use_eleven\n",
        "            else:\n",
        "                # This allows for some Aces to be 11s, and others to be 1.\n",
        "                use_one = use_eleven\n",
        "            \n",
        "            ace_counter += 1\n",
        "        \n",
        "        return use_one\n",
        "    else:\n",
        "      return use_one"
      ],
      "execution_count": null,
      "outputs": []
    },
    {
      "cell_type": "markdown",
      "metadata": {
        "id": "AjTRMd6u7W13",
        "colab_type": "text"
      },
      "source": [
        "### Define logic for the dealer's turn."
      ]
    },
    {
      "cell_type": "code",
      "metadata": {
        "id": "0KDMFOyp7IXr",
        "colab_type": "code",
        "colab": {}
      },
      "source": [
        "def dealer_turn(dealer_hand, deck):\n",
        "    # Calculate dealer hand's value.\n",
        "    dealer_value = dealer_eval(dealer_hand)\n",
        "\n",
        "    # Define dealer policy (is fixed to official rules)\n",
        "\n",
        "    # The dealer keeps hitting until their total is 17 or more\n",
        "    while dealer_value < 17:\n",
        "        # hit\n",
        "        dealer_hand.append(deck.deal())\n",
        "        dealer_value = dealer_eval(dealer_hand)\n",
        "\n",
        "    return dealer_value, dealer_hand, deck"
      ],
      "execution_count": null,
      "outputs": []
    },
    {
      "cell_type": "markdown",
      "metadata": {
        "id": "ooqP5l8B7a5i",
        "colab_type": "text"
      },
      "source": [
        "### Define the OpenAI Gym Environment for Blackjack"
      ]
    },
    {
      "cell_type": "code",
      "metadata": {
        "id": "W6I1OV8I7jEs",
        "colab_type": "code",
        "colab": {}
      },
      "source": [
        "import random\n",
        "import numpy as np\n",
        "import gym\n",
        "from gym import error, spaces, utils\n",
        "from gym.utils import seeding\n",
        "\n",
        "INITIAL_BALANCE = 1000\n",
        "NUM_DECKS = 6\n",
        "\n",
        "class BlackjackEnv(gym.Env):\n",
        "    metadata = {'render.modes': ['human']}\n",
        "    \n",
        "    def __init__(self):\n",
        "        super(BlackjackEnv, self).__init__()\n",
        "        \n",
        "        # Initialize the blackjack deck.\n",
        "        self.bj_deck = Deck(NUM_DECKS)\n",
        "        \n",
        "        self.player_hand = []\n",
        "        self.dealer_hand = []\n",
        "        \n",
        "        self.reward_options = {\"lose\":-100, \"tie\":0, \"win\":100}\n",
        "        \n",
        "        # hit = 0, stand = 1\n",
        "        self.action_space = spaces.Discrete(2)\n",
        "        \n",
        "        '''\n",
        "        First element of tuple is the range of possible hand values for the player. (3 through 20)\n",
        "        This is the possible range of values that the player will actually have to make a decision for.\n",
        "        Any player hand value 21 or above already has automatic valuations, and needs no input from an\n",
        "        AI Agent. \n",
        "        \n",
        "        However, we also need to add all the hand values that the agent could possibly end up in when\n",
        "        they bust. Maybe the agent can glean some correlations based on what hand value they bust at,\n",
        "        so this should be in the observation space. Also, the layout of OpenAI Gym environment class\n",
        "        makes us have to include the bust-value in the step() function because we need to return that\n",
        "        done is true alongside the final obs, which is the bust-value.\n",
        "        '''\n",
        "        \n",
        "        # Second element of the tuple is the range of possible values for the dealer's upcard. (2 through 11)\n",
        "        self.observation_space = spaces.Tuple((spaces.Discrete(18), spaces.Discrete(10)))\n",
        "        \n",
        "        self.done = False\n",
        "        \n",
        "    def _take_action(self, action):\n",
        "        if action == 0: # hit\n",
        "            self.player_hand.append(self.bj_deck.deal())\n",
        "            \n",
        "        # re-calculate the value of the player's hand after any changes to the hand.\n",
        "        self.player_value = player_eval(self.player_hand)\n",
        "    \n",
        "    def step(self, action):\n",
        "        self._take_action(action)\n",
        "        \n",
        "        # End the episode/game is the player stands or has a hand value >= 21.\n",
        "        self.done = action == 1 or self.player_value >= 21\n",
        "        \n",
        "        # rewards are 0 when the player hits and is still below 21, and they\n",
        "        # keep playing.\n",
        "        rewards = 0\n",
        "        \n",
        "        if self.done:\n",
        "            # CALCULATE REWARDS\n",
        "            if self.player_value > 21: # above 21, player loses automatically.\n",
        "                rewards = self.reward_options[\"lose\"]\n",
        "            elif self.player_value == 21: # blackjack! Player wins automatically.\n",
        "                rewards = self.reward_options[\"win\"]\n",
        "            else:\n",
        "                ## Begin dealer turn phase.\n",
        "\n",
        "                dealer_value, self.dealer_hand, self.bj_deck = dealer_turn(self.dealer_hand, self.bj_deck)\n",
        "\n",
        "                ## End of dealer turn phase\n",
        "\n",
        "                #------------------------------------------------------------#\n",
        "\n",
        "                ## Final Compare\n",
        "\n",
        "                if dealer_value > 21: # dealer above 21, player wins automatically\n",
        "                    rewards = self.reward_options[\"win\"]\n",
        "                elif dealer_value == 21: # dealer has blackjack, player loses automatically\n",
        "                    rewards = self.reward_options[\"lose\"]\n",
        "                else: # dealer and player have values less than 21.\n",
        "                    if self.player_value > dealer_value: # player closer to 21, player wins.\n",
        "                        rewards = self.reward_options[\"win\"]\n",
        "                    elif self.player_value < dealer_value: # dealer closer to 21, dealer wins.\n",
        "                        rewards = self.reward_options[\"lose\"]\n",
        "                    else:\n",
        "                        rewards = self.reward_options[\"tie\"]\n",
        "        \n",
        "        self.balance += rewards\n",
        "        \n",
        "        \n",
        "        # Subtract by 1 to fit into the possible observation range.\n",
        "        # This makes the possible range of 3 through 20 into 1 through 18\n",
        "        player_value_obs = self.player_value - 2\n",
        "        \n",
        "        # get the value of the dealer's upcard, this value is what the agent sees.\n",
        "        # Subtract by 1 to fit the possible observation range of 1 to 10.\n",
        "        upcard_value_obs = dealer_eval([self.dealer_upcard]) - 1\n",
        "        \n",
        "        # the state is represented as a player hand-value + dealer upcard pair.\n",
        "        obs = np.array([player_value_obs, upcard_value_obs])\n",
        "        \n",
        "        return obs, rewards, self.done, {}\n",
        "    \n",
        "    def reset(self): # resets game to an initial state\n",
        "        # Add the player and dealer cards back into the deck.\n",
        "        self.bj_deck.cards += self.player_hand + self.dealer_hand\n",
        "\n",
        "        # Shuffle before beginning. Only shuffle once before the start of each game.\n",
        "        self.bj_deck.shuffle()\n",
        "         \n",
        "        self.balance = INITIAL_BALANCE\n",
        "        \n",
        "        self.done = False\n",
        "        \n",
        "        # returns the start state for the agent\n",
        "        # deal 2 cards to the agent and the dealer\n",
        "        self.player_hand = [self.bj_deck.deal(), self.bj_deck.deal()]\n",
        "        self.dealer_hand = [self.bj_deck.deal(), self.bj_deck.deal()]\n",
        "        self.dealer_upcard = self.dealer_hand[0]\n",
        "        \n",
        "        # calculate the value of the agent's hand\n",
        "        self.player_value = player_eval(self.player_hand)\n",
        "        \n",
        "        # Subtract by 1 to fit into the possible observation range.\n",
        "        # This makes the possible range of 2 through 20 into 1 through 18\n",
        "        player_value_obs = self.player_value - 2\n",
        "            \n",
        "        # get the value of the dealer's upcard, this value is what the agent sees.\n",
        "        # Subtract by 1 to fit the possible observation range of 1 to 10.\n",
        "        upcard_value_obs = dealer_eval([self.dealer_upcard]) - 1\n",
        "        \n",
        "        # the state is represented as a player hand-value + dealer upcard pair.\n",
        "        obs = np.array([player_value_obs, upcard_value_obs])\n",
        "        \n",
        "        return obs\n",
        "    \n",
        "    def render(self, mode='human', close=False):\n",
        "        # convert the player hand into a format that is\n",
        "        # easy to read and understand.\n",
        "        hand_list = []\n",
        "        for card in self.player_hand:\n",
        "            hand_list.append(card.rank)\n",
        "            \n",
        "        # re-calculate the value of the dealer upcard.\n",
        "        upcard_value = dealer_eval([self.dealer_upcard])\n",
        "        \n",
        "        print(f'Balance: {self.balance}')\n",
        "        print(f'Player Hand: {hand_list}')\n",
        "        print(f'Player Value: {self.player_value}')\n",
        "        print(f'Dealer Upcard: {upcard_value}')\n",
        "        print(f'Done: {self.done}')\n",
        "        \n",
        "        print()"
      ],
      "execution_count": null,
      "outputs": []
    },
    {
      "cell_type": "markdown",
      "metadata": {
        "id": "mjOwG-eo7ktu",
        "colab_type": "text"
      },
      "source": [
        "### Using the OpenAI Gym Blackjack Environment"
      ]
    },
    {
      "cell_type": "code",
      "metadata": {
        "id": "qitsP73y7mh5",
        "colab_type": "code",
        "colab": {
          "base_uri": "https://localhost:8080/",
          "height": 35
        },
        "outputId": "4426a0fa-479c-4949-95d3-8b102f566c8d"
      },
      "source": [
        "import random\n",
        "env = BlackjackEnv()\n",
        "\n",
        "total_rewards = 0\n",
        "NUM_EPISODES = 1000\n",
        "\n",
        "for _ in range(NUM_EPISODES):\n",
        "    env.reset()\n",
        "\n",
        "    while env.done == False:\n",
        "        action = env.action_space.sample()\n",
        "\n",
        "        new_state, reward, done, desc = env.step(action)\n",
        "        total_rewards += reward\n",
        "        \n",
        "avg_reward = total_rewards / NUM_EPISODES\n",
        "print(avg_reward)"
      ],
      "execution_count": null,
      "outputs": [
        {
          "output_type": "stream",
          "text": [
            "-32.9\n"
          ],
          "name": "stdout"
        }
      ]
    }
  ]
}